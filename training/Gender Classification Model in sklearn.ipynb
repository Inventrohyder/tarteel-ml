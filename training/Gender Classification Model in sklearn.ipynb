{
 "cells": [
  {
   "cell_type": "code",
   "execution_count": 7,
   "metadata": {},
   "outputs": [],
   "source": [
    "import matplotlib.pyplot as plt\n",
    "import numpy as np\n",
    "import os\n",
    "import pandas as pd\n",
    "\n",
    "from sklearn import svm\n",
    "from sklearn.model_selection import GridSearchCV, learning_curve, StratifiedKFold, train_test_split\n",
    "from sklearn.metrics import classification_report"
   ]
  },
  {
   "cell_type": "code",
   "execution_count": 2,
   "metadata": {},
   "outputs": [],
   "source": [
    "def preprocess_mfccs(arr):\n",
    "    '''\n",
    "    Simple method to handle the complex MFCC coefs that are produced during preprocessing. This means:\n",
    "    1. (For now), discarding one of the channels of the MFCC coefs\n",
    "    2. Collapsing any empty dimensions\n",
    "    Also transposes the vector so we can easily iterate through each coefficient\n",
    "    '''\n",
    "    return np.transpose(arr.squeeze()[0])\n",
    "\n",
    "# Load the CSV file with URLs and Gender information\n",
    "with open('./.cache/local.csv', 'rb') as tarteel_csv:\n",
    "    tarteel_df = pd.read_csv(tarteel_csv)\n",
    "    tarteel_df = tarteel_df[['URL to Recording', 'Gender']]\n",
    "    recording_urls = tarteel_df['URL to Recording']\n",
    "    recording_filenames_from_csv = recording_urls.str.extract('https://tarteel-data.s3.amazonaws.com/media/([_\\d]+)\\.wav.+')\n",
    "    \n",
    "def get_gender_of_recitation(recording_filename):\n",
    "    recording_filename = recording_filename[:-10]\n",
    "    matching_audio_file = recording_filenames_from_csv[0].str.startswith(recording_filename).fillna(False)\n",
    "    tarteel_df_out = tarteel_df[matching_audio_file]\n",
    "    if tarteel_df_out.empty:\n",
    "        return None\n",
    "    if tarteel_df_out['Gender'].iloc[0] == 'male':\n",
    "        return 1\n",
    "    if tarteel_df_out['Gender'].iloc[0] == 'female':\n",
    "        return 0 \n",
    "    return None\n",
    "\n",
    "def build_dataset(local_coefs_dir, surahs, n=100):\n",
    "    '''\n",
    "    Builds a dataset to be used with the gender classification model.\n",
    "    \n",
    "    :param local_coefs_dir: a string with the path of the mfcc coefficients \n",
    "    '''\n",
    "    \n",
    "    def get_classifier_data(n):\n",
    "        count = 0\n",
    "        classifier_input_data = []\n",
    "        gender_data = []\n",
    "        for surah_num in surahs:\n",
    "            local_surah_dir = os.path.join(local_coefs_dir, \"s\" + str(surah_num))\n",
    "            for _, ayah_directories, _ in os.walk(local_surah_dir):\n",
    "                for ayah_directory in ayah_directories:\n",
    "                    ayah_num = ayah_directory[1:]\n",
    "                    local_ayah_dir = os.path.join(local_surah_dir, ayah_directory)\n",
    "                    for _, _, recording_filenames in os.walk(local_ayah_dir):\n",
    "                        for recording_filename in recording_filenames:\n",
    "                            local_coefs_path = os.path.join(local_ayah_dir, recording_filename)\n",
    "                            mfccs = np.load(local_coefs_path)\n",
    "                            mfccs = preprocess_mfccs(mfccs)\n",
    "                            \n",
    "                            # Classifier input features are the means of each of the coeffs\n",
    "                            classifier_input = []\n",
    "                            for mfcc in mfccs:\n",
    "                                classifier_input.append(np.mean(mfcc))\n",
    "\n",
    "                            gender = get_gender_of_recitation(recording_filename)\n",
    "                            if gender is not None:  # Only if gender is known, add the recording to the list\n",
    "                                classifier_input_data.append(classifier_input)\n",
    "                                gender_data.append(gender)\n",
    "                                count += 1\n",
    "                                if count == n:\n",
    "                                    return classifier_input_data, gender_data\n",
    "\n",
    "        return classifier_input_data, gender_data\n",
    "    \n",
    "    \n",
    "    classifier_input_data, gender_data = get_classifier_data(n=n)\n",
    "    return np.array(classifier_input_data), np.array(gender_data)"
   ]
  },
  {
   "cell_type": "code",
   "execution_count": 3,
   "metadata": {},
   "outputs": [
    {
     "name": "stdout",
     "output_type": "stream",
     "text": [
      "Dataset info (571 recordings): \n",
      "Number of recordings   (male): 485\n",
      "Number of recordings (female): 86\n"
     ]
    }
   ],
   "source": [
    "xtrain, ytrain = build_dataset(\"../.outputs40/mfcc\", surahs=[2,3,4,26], n=600)\n",
    "\n",
    "print(\"Dataset info ({} recordings): \".format(ytrain.size))\n",
    "unique, counts = np.unique(ytrain, return_counts=True)\n",
    "gender_counts = dict(zip(unique, counts))\n",
    "print(\"Number of recordings   (male):\", gender_counts[1])\n",
    "print(\"Number of recordings (female):\", gender_counts[0])"
   ]
  },
  {
   "cell_type": "markdown",
   "metadata": {},
   "source": [
    "### SVM parameter tuning"
   ]
  },
  {
   "cell_type": "code",
   "execution_count": 4,
   "metadata": {},
   "outputs": [
    {
     "name": "stdout",
     "output_type": "stream",
     "text": [
      "Best options: {'C': 200, 'degree': 3, 'kernel': 'poly'}\n",
      "Best score: 0.9570681592998396\n"
     ]
    }
   ],
   "source": [
    "Cs = [50,60,70,80,90,100,150,200,250]\n",
    "\n",
    "param_grid = [\n",
    "    {'kernel': ['linear'], 'C': Cs},\n",
    "    {'kernel': ['rbf'], 'C': Cs},\n",
    "    {'kernel': ['poly'], 'C': Cs,\n",
    "                 'degree': [1,2,3,4,5]}\n",
    "]\n",
    "cv = StratifiedKFold(5).split(xtrain, ytrain)\n",
    "grid_search = GridSearchCV(svm.SVC(gamma='scale'), param_grid=param_grid,\n",
    "                           scoring='f1_macro', iid=False, cv=cv)\n",
    "grid_search.fit(xtrain, ytrain)\n",
    "print(\"Best options:\", grid_search.best_params_)\n",
    "print(\"Best score:\", grid_search.best_score_)"
   ]
  },
  {
   "cell_type": "markdown",
   "metadata": {},
   "source": [
    "### Model Evaluation"
   ]
  },
  {
   "cell_type": "code",
   "execution_count": 5,
   "metadata": {},
   "outputs": [
    {
     "name": "stdout",
     "output_type": "stream",
     "text": [
      "              precision    recall  f1-score   support\n",
      "\n",
      "      female       0.96      0.92      0.94        24\n",
      "        male       0.98      0.99      0.98        91\n",
      "\n",
      "   micro avg       0.97      0.97      0.97       115\n",
      "   macro avg       0.97      0.95      0.96       115\n",
      "weighted avg       0.97      0.97      0.97       115\n",
      "\n"
     ]
    }
   ],
   "source": [
    "Xtrain, Xtest, Ytrain, Ytest = train_test_split(xtrain, ytrain, test_size=0.2, random_state=1807)\n",
    "model = svm.SVC(kernel='poly', gamma='scale', C=200, degree=3)\n",
    "model.fit(Xtrain, Ytrain)\n",
    "Ypred = model.predict(Xtest)\n",
    "\n",
    "print(classification_report(Ytest, Ypred, target_names=['female', 'male']))"
   ]
  },
  {
   "cell_type": "markdown",
   "metadata": {},
   "source": [
    "### Learning curve"
   ]
  },
  {
   "cell_type": "code",
   "execution_count": 8,
   "metadata": {},
   "outputs": [
    {
     "data": {
      "text/plain": [
       "<matplotlib.legend.Legend at 0x7fb9f27a3128>"
      ]
     },
     "execution_count": 8,
     "metadata": {},
     "output_type": "execute_result"
    },
    {
     "data": {
      "image/png": "[encoded data removed]",
      "text/plain": [
       "<Figure size 432x288 with 1 Axes>"
      ]
     },
     "metadata": {
      "needs_background": "light"
     },
     "output_type": "display_data"
    }
   ],
   "source": [
    "model = svm.SVC(kernel='poly', gamma='scale', C=200, degree=3)\n",
    "cv = StratifiedKFold(5).split(xtrain, ytrain)\n",
    "\n",
    "train_sizes = range(20, 456, 10)\n",
    "train_sizes, train_scores, valid_scores \\\n",
    "            = learning_curve(model, xtrain, ytrain,\n",
    "                     train_sizes=train_sizes, cv=cv,\n",
    "                     scoring='f1_macro')\n",
    "\n",
    "plt.plot(train_sizes, np.mean(train_scores, axis=1), label=\"Training\")\n",
    "plt.plot(train_sizes, np.mean(valid_scores, axis=1), label=\"Validation\")\n",
    "plt.xlabel(\"Dataset size\")\n",
    "plt.ylabel(\"F1 score\")\n",
    "plt.legend()"
   ]
  }
 ],
 "metadata": {
  "kernelspec": {
   "display_name": "Python 3",
   "language": "python",
   "name": "python3"
  },
  "language_info": {
   "codemirror_mode": {
    "name": "ipython",
    "version": 3
   },
   "file_extension": ".py",
   "mimetype": "text/x-python",
   "name": "python",
   "nbconvert_exporter": "python",
   "pygments_lexer": "ipython3",
   "version": "3.6.8"
  }
 },
 "nbformat": 4,
 "nbformat_minor": 2
}
